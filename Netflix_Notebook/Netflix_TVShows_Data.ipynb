{
 "cells": [
  {
   "cell_type": "markdown",
   "metadata": {},
   "source": [
    "# Netflix Analysis using TV Shows Dataset from Kaggle"
   ]
  },
  {
   "cell_type": "code",
   "execution_count": null,
   "metadata": {},
   "outputs": [],
   "source": [
    "# Import libraries\n",
    "%matplotlib notebook\n",
    "import pandas as pd\n",
    "import numpy as np\n",
    "import matplotlib.pyplot as plt"
   ]
  },
  {
   "cell_type": "code",
   "execution_count": null,
   "metadata": {},
   "outputs": [],
   "source": [
    "# Import data\n",
    "file = \"netflix_titles.csv\"\n",
    "data = pd.read_csv(file)\n",
    "\n",
    "# Since column names are rare, we rename columns\n",
    "rename_data = data.rename(columns={\"show_id\": \"Show ID\", \"type\": \"Type\", \"title\": \"Title\", \"director\": \"Director\",\n",
    "                            \"cast\": \"Cast\", \"country\": \"Country\", \"date_added\": \"Date Added\", \"release_year\": \"Release Year\",\n",
    "                            \"rating\": \"Rating\", \"duration\": \"Duration\", \"listed_in\": \"Genre\", \"description\": \"Description\"})"
   ]
  },
  {
   "cell_type": "code",
   "execution_count": null,
   "metadata": {},
   "outputs": [],
   "source": [
    "# There is missing some information so we delete these data\n",
    "clean_data = rename_data.replace(np.NaN)"
   ]
  },
  {
   "cell_type": "code",
   "execution_count": null,
   "metadata": {},
   "outputs": [],
   "source": [
    "# We separate the TV Shows data and visualize the information\n",
    "shows_country = clean_data[clean_data[\"Type\"] == 'TV Show']\n",
    "shows_country"
   ]
  },
  {
   "cell_type": "code",
   "execution_count": null,
   "metadata": {},
   "outputs": [],
   "source": [
    "# We visualize that the total of all data set is 6234 and after selecting the tv shows, we have 1969\n",
    "print('Length of Total Dataset: ' + str(len(clean_data)))\n",
    "print('Length of TV Shows Dataset: ' + str(len(shows_country)))"
   ]
  },
  {
   "cell_type": "code",
   "execution_count": null,
   "metadata": {},
   "outputs": [],
   "source": [
    "# We count the number of shows per genre and save all the genres we have in our dataset\n",
    "genre_list_show = [] # Shows\n",
    "genre_count_show = {} # Shows counting\n",
    "\n",
    "for listed in shows_country['Genre']:\n",
    "    split_gen = [x.strip() for x in listed.split(',')] # Split in list where there is more than one value\n",
    "    \n",
    "    # Counting dictionary\n",
    "    for i in range(len(split_gen)): \n",
    "        # Check if exists in genre_list or not and add it\n",
    "        if split_gen[i] not in genre_list_show: \n",
    "            genre_list_show.append(split_gen[i]) \n",
    "        # Count    \n",
    "        if split_gen[i] in genre_count_show:\n",
    "            genre_count_show[split_gen[i]] = genre_count_show[split_gen[i]] + 1\n",
    "        else:\n",
    "            genre_count_show[split_gen[i]] = 1"
   ]
  },
  {
   "cell_type": "code",
   "execution_count": null,
   "metadata": {},
   "outputs": [],
   "source": [
    "# Ploting the total counts\n",
    "# Save to dataframe\n",
    "df_genres_shows = pd.DataFrame.from_dict(genre_count_show, orient='index', columns=['Total Data'])\n",
    "# Sort values\n",
    "sorted_genres_show = df_genres_shows.sort_values(by=['Total Data'], ascending=False)\n",
    "sorted_genres_show.head(10)\n",
    "# Bar plot\n",
    "x_genres_shows = np.arange(len(sorted_genres_show['Total Data']))\n",
    "tick_gslocations = [value for value in x_genres_shows]\n",
    "width = 0.55\n",
    "#plt.figure(figsize=(20,10))\n",
    "plt.bar(x_genres_shows, sorted_genres_show['Total Data'], width=width, color='indigo', alpha=0.5) \n",
    "plt.xticks(tick_gslocations, sorted_genres_show.index, rotation=\"vertical\")\n",
    "plt.autoscale(tight=True)\n",
    "plt.xlabel(\"Genres\")\n",
    "plt.ylabel(\"Total data\")\n",
    "plt.title(\"Show Total Genres\")\n",
    "plt.tight_layout()\n",
    "for i, v in enumerate(sorted_genres_show['Total Data']):\n",
    "    plt.text(i, v, str(v), color='k', ha='center', fontsize=7)\n",
    "    \n",
    "plt.savefig(\"TotalGenresShow.png\")"
   ]
  },
  {
   "cell_type": "code",
   "execution_count": null,
   "metadata": {},
   "outputs": [],
   "source": [
    "# Now we count the shows per country and extract the countries that have shows in Netflix library\n",
    "country_list_show = [] # Save countries\n",
    "country_count_show = {} # Count shows per country\n",
    "\n",
    "for listed_in in shows_country['Country']:\n",
    "    split_country = [x.strip() for x in listed_in.split(',')] # Split in list if there are more than one collaboration\n",
    "  \n",
    "    # To save the data\n",
    "    for j in range(len(split_country)): \n",
    "        # Check if exists in country_list or not and add it\n",
    "        if split_country[j] not in country_list_show: \n",
    "            country_list_show.append(split_country[j]) \n",
    "        # Count genres per country\n",
    "        if split_country[j] in country_count_show:\n",
    "            country_count_show[split_country[j]] = country_count_show[split_country[j]] + 1\n",
    "        else:\n",
    "            country_count_show[split_country[j]] = 1"
   ]
  },
  {
   "cell_type": "code",
   "execution_count": null,
   "metadata": {},
   "outputs": [],
   "source": [
    "# We go deeper into the information to analyze the number of shows separated by genre existing per country\n",
    "# We create a matrix where columns are genre list and rows are the countries\n",
    "matrizSh = np.zeros((len(country_list_show),len(genre_list_show)))\n",
    "# Save values of countries and genres\n",
    "ctempo = shows_country['Country'].values\n",
    "gtempo = shows_country['Genre'].values\n",
    "\n",
    "for i in range(len(ctempo)): # We are in a row\n",
    "    #print(i)\n",
    "    cstmp=ctempo[i].split(',') # Separate the data if there is more than one country\n",
    "    #print(cstmp)\n",
    "    for k in range(len(cstmp)): # Analyzing each country of the previous split, we are still in the same row\n",
    "        gctmp=gtempo[i].split(',') # We jump to the next cell where there are the genres and separate them\n",
    "        #print(gctmp)\n",
    "        for j in range(len(gctmp)): # Here, we are going to move through each genre for one country \n",
    "            # We use the matrix as a xy coordinate system where x would be the index of countries, and y would be the columns of genre.\n",
    "            # To get the index of each value, we use the list information of countries and genres and the function .index to look for the respective country and genre\n",
    "            # We sum +1 when we get the xy coordinates\n",
    "            try: \n",
    "                matrizSh[country_list_show.index(cstmp[k].strip()),genre_list_show.index(gctmp[j].strip())]=matrizSh[country_list_show.index(cstmp[k].strip()),genre_list_show.index(gctmp[j].strip())]+1\n",
    "            except:\n",
    "                print('Error') # Just to verify that we gather all the data"
   ]
  },
  {
   "cell_type": "code",
   "execution_count": null,
   "metadata": {},
   "outputs": [],
   "source": [
    "# We convert the matrix information to a dataframe\n",
    "df_shows = pd.DataFrame(data=matrizSh, index=country_list_show, columns=genre_list_show)\n",
    "df_shows"
   ]
  },
  {
   "cell_type": "code",
   "execution_count": null,
   "metadata": {},
   "outputs": [],
   "source": [
    "# We analyze the top 10 countries with more TV Shows\n",
    "# To gather this information we sort the values\n",
    "country_df_show = pd.DataFrame.from_dict(country_count_show, orient='index', columns=['Total Data'])\n",
    "sorted_countries_show = country_df_show.sort_values(by=['Total Data'], ascending=False)\n",
    "sorted_countries_show.head(10)"
   ]
  },
  {
   "cell_type": "code",
   "execution_count": null,
   "metadata": {
    "scrolled": false
   },
   "outputs": [],
   "source": [
    "# We plot the top 10 countries with their respective counting shows by genre\n",
    "for a in range(10):\n",
    "    select_country = sorted_countries_show.index[a] # Country\n",
    "    country_genres = df_shows.loc[df_shows.index == select_country,:] # Data from that country\n",
    "    # Dataframe to sort the values\n",
    "    df_sorted_genre = pd.DataFrame(country_genres).sort_values(by=select_country, axis=1, ascending=False)\n",
    "    # We transpose the row data to column data to make easier the ploting \n",
    "    df_sorted_genre_T = df_sorted_genre.T\n",
    "    \n",
    "    # Bar Plot\n",
    "    width = 0.55\n",
    "    ax_bar = df_sorted_genre_T.plot(kind='bar', facecolor='slateblue', width=width, legend=None)\n",
    "    plt.title(select_country+' Shows per Genre')\n",
    "    plt.ylabel('Number of Titles')\n",
    "    plt.xlabel('Genres')\n",
    "    plt.tight_layout()\n",
    "\n",
    "    # To enumarate the values in bars\n",
    "    for i, v in enumerate(df_sorted_genre_T[select_country]):\n",
    "        ax_bar.text(i, v, str(v), color='k', ha='center', fontsize=6)\n",
    "        \n",
    "    # Save figures\n",
    "    plt.savefig('TVShow_Country' + str(a) + '.png')"
   ]
  },
  {
   "cell_type": "code",
   "execution_count": null,
   "metadata": {},
   "outputs": [],
   "source": [
    "# Export dataframes of TV Shows data set and TV Shows per genre per country\n",
    "shows_country.to_csv(\"Netflix_TVShows_Data.csv\", index=True, header=True)\n",
    "df_shows.to_csv('Netflix_TVShows_perCountry.csv', index=True, header=True)\n"
   ]
  },
  {
   "cell_type": "code",
   "execution_count": null,
   "metadata": {},
   "outputs": [],
   "source": []
  }
 ],
 "metadata": {
  "kernelspec": {
   "display_name": "Python 3.7.4 64-bit ('base': conda)",
   "language": "python",
   "name": "python37464bitbasecondaf8a42dbeb68b43b8ab181bef94341f6a"
  },
  "language_info": {
   "codemirror_mode": {
    "name": "ipython",
    "version": 3
   },
   "file_extension": ".py",
   "mimetype": "text/x-python",
   "name": "python",
   "nbconvert_exporter": "python",
   "pygments_lexer": "ipython3",
   "version": "3.7.4"
  }
 },
 "nbformat": 4,
 "nbformat_minor": 2
}
